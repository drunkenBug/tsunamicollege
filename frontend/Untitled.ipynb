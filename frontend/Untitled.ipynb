{
 "cells": [
  {
   "cell_type": "code",
   "execution_count": 1,
   "id": "geological-attack",
   "metadata": {},
   "outputs": [],
   "source": [
    "d=0.6"
   ]
  },
  {
   "cell_type": "code",
   "execution_count": 2,
   "id": "failing-temple",
   "metadata": {},
   "outputs": [],
   "source": [
    "r=0.3"
   ]
  },
  {
   "cell_type": "code",
   "execution_count": 3,
   "id": "tight-fancy",
   "metadata": {},
   "outputs": [],
   "source": [
    "f=40"
   ]
  },
  {
   "cell_type": "code",
   "execution_count": 4,
   "id": "exclusive-present",
   "metadata": {},
   "outputs": [],
   "source": [
    "import math \n",
    "pi=math.pi"
   ]
  },
  {
   "cell_type": "code",
   "execution_count": 5,
   "id": "subject-attempt",
   "metadata": {},
   "outputs": [],
   "source": [
    "U=2*pi*r"
   ]
  },
  {
   "cell_type": "code",
   "execution_count": 6,
   "id": "continent-bullet",
   "metadata": {},
   "outputs": [
    {
     "data": {
      "text/plain": [
       "1.8849555921538759"
      ]
     },
     "execution_count": 6,
     "metadata": {},
     "output_type": "execute_result"
    }
   ],
   "source": [
    "U"
   ]
  },
  {
   "cell_type": "code",
   "execution_count": 7,
   "id": "criminal-magazine",
   "metadata": {},
   "outputs": [],
   "source": [
    "t=1/f"
   ]
  },
  {
   "cell_type": "code",
   "execution_count": 9,
   "id": "attractive-characterization",
   "metadata": {},
   "outputs": [
    {
     "data": {
      "text/plain": [
       "0.025"
      ]
     },
     "execution_count": 9,
     "metadata": {},
     "output_type": "execute_result"
    }
   ],
   "source": [
    "t"
   ]
  },
  {
   "cell_type": "code",
   "execution_count": 10,
   "id": "pointed-afghanistan",
   "metadata": {},
   "outputs": [],
   "source": [
    "v=U/t"
   ]
  },
  {
   "cell_type": "code",
   "execution_count": 11,
   "id": "covered-fifty",
   "metadata": {},
   "outputs": [
    {
     "data": {
      "text/plain": [
       "75.39822368615503"
      ]
     },
     "execution_count": 11,
     "metadata": {},
     "output_type": "execute_result"
    }
   ],
   "source": [
    "v"
   ]
  },
  {
   "cell_type": "code",
   "execution_count": 12,
   "id": "treated-wound",
   "metadata": {},
   "outputs": [],
   "source": [
    "m=1/1000"
   ]
  },
  {
   "cell_type": "code",
   "execution_count": 13,
   "id": "committed-average",
   "metadata": {},
   "outputs": [
    {
     "data": {
      "text/plain": [
       "0.001"
      ]
     },
     "execution_count": 13,
     "metadata": {},
     "output_type": "execute_result"
    }
   ],
   "source": [
    "m"
   ]
  },
  {
   "cell_type": "code",
   "execution_count": 14,
   "id": "latest-orbit",
   "metadata": {},
   "outputs": [],
   "source": [
    "Fz=m*v**2/r"
   ]
  },
  {
   "cell_type": "code",
   "execution_count": 15,
   "id": "rational-pearl",
   "metadata": {},
   "outputs": [
    {
     "data": {
      "text/plain": [
       "18.949640450091568"
      ]
     },
     "execution_count": 15,
     "metadata": {},
     "output_type": "execute_result"
    }
   ],
   "source": [
    "Fz"
   ]
  },
  {
   "cell_type": "code",
   "execution_count": null,
   "id": "breathing-cargo",
   "metadata": {},
   "outputs": [],
   "source": []
  }
 ],
 "metadata": {
  "kernelspec": {
   "display_name": "Python 3",
   "language": "python",
   "name": "python3"
  },
  "language_info": {
   "codemirror_mode": {
    "name": "ipython",
    "version": 3
   },
   "file_extension": ".py",
   "mimetype": "text/x-python",
   "name": "python",
   "nbconvert_exporter": "python",
   "pygments_lexer": "ipython3",
   "version": "3.9.4"
  }
 },
 "nbformat": 4,
 "nbformat_minor": 5
}
